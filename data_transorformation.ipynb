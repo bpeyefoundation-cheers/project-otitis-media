{
 "cells": [
  {
   "cell_type": "code",
   "execution_count": 7,
   "metadata": {},
   "outputs": [
    {
     "name": "stdout",
     "output_type": "stream",
     "text": [
      "0.15754329724299584 0.1615084017667789 0.16513468162723657\n",
      "0.23724060722371443\n"
     ]
    }
   ],
   "source": [
    "from datasets.image_datasets import ImageDataset\n",
    "import numpy as np\n",
    "\n",
    "image_dataset= ImageDataset(csv_path=\"data/train.csv\",transforms=None)\n",
    "\n",
    "r_mean_sum=0\n",
    "r_std_sum=0\n",
    "g_mean_sum=0\n",
    "g_std_sum=0\n",
    "b_mean_sum=0\n",
    "b_std_sum=0\n",
    "for img,_ in image_dataset:\n",
    "    img_np=np.array(img)\n",
    "    r_mean_sum+=img_np[0].mean()\n",
    "    r_std_sum+=img_np.std()\n",
    "for img,_ in image_dataset:\n",
    "    img_np=np.array(img)\n",
    "    g_mean_sum+=img_np[1].mean()\n",
    "    g_std_sum+=img_np.std()\n",
    "for img,_ in image_dataset:\n",
    "    img_np=np.array(img)\n",
    "    b_mean_sum+=img_np[2].mean()\n",
    "    b_std_sum+=img_np.std()\n",
    "    \n",
    "#print(r_mean_sum/len(image_dataset),r_std_sum/len(image_dataset))=>40.17354079696394 60.49635484204718\n",
    "# print(g_mean_sum/len(image_dataset),g_std_sum/len(image_dataset))=>41.184642450528614 60.49635484204718\n",
    "# print(b_mean_sum/len(image_dataset),b_std_sum/len(image_dataset))=>42.109343814945326 60.49635484204718\n",
    "\n",
    "print(40.17354079696394/255.0,41.184642450528614/255.0,42.109343814945326 /255.0)=>0.157 0.161 0.165\n",
    "\n",
    "\n",
    "print(60.49635484204718/255.0)=>0.237\n"
   ]
  },
  {
   "cell_type": "code",
   "execution_count": null,
   "metadata": {},
   "outputs": [],
   "source": []
  }
 ],
 "metadata": {
  "kernelspec": {
   "display_name": "venv",
   "language": "python",
   "name": "python3"
  },
  "language_info": {
   "codemirror_mode": {
    "name": "ipython",
    "version": 3
   },
   "file_extension": ".py",
   "mimetype": "text/x-python",
   "name": "python",
   "nbconvert_exporter": "python",
   "pygments_lexer": "ipython3",
   "version": "3.11.3"
  }
 },
 "nbformat": 4,
 "nbformat_minor": 2
}
